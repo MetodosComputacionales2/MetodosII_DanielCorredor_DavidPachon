{
 "cells": [
  {
   "cell_type": "code",
   "execution_count": 1,
   "metadata": {},
   "outputs": [],
   "source": [
    "import numpy as np\n",
    "import matplotlib.pyplot as plt\n",
    "from mpl_toolkits.mplot3d.axes3d import Axes3D\n",
    "import matplotlib.animation as animation\n",
    "from tqdm import tqdm\n",
    "from scipy.optimize import fsolve"
   ]
  },
  {
   "cell_type": "code",
   "execution_count": 2,
   "metadata": {},
   "outputs": [],
   "source": [
    "w0 = - ( 2.**(1./3.))/(2. - 2.**(1./3.))\n",
    "w1 =  ( 1. )/( 2. - 2.**(1./3.))\n",
    "c1 = w1/2.\n",
    "c2 = (w0 + w1)/2.\n",
    "c3 = c2\n",
    "c4 = c1\n",
    "d1 = w1\n",
    "d2 = w0\n",
    "d3 = d1"
   ]
  },
  {
   "cell_type": "code",
   "execution_count": 3,
   "metadata": {},
   "outputs": [],
   "source": [
    "A = 0.01\n",
    "l = 0.3\n",
    "k = 389.6\n",
    "n = 1\n",
    "R = 8.314\n",
    "cv = 3*R/2\n",
    "C = k*A/(n*cv*l)\n",
    "v0 = C*(400-200)\n",
    "\n",
    "T0 = np.array([400,200])\n",
    "V0 = np.array([-v0,v0])\n",
    "t = np.linspace(0,5,1000)"
   ]
  },
  {
   "cell_type": "code",
   "execution_count": 4,
   "metadata": {},
   "outputs": [],
   "source": [
    "def System(r):\n",
    "    T1, T2 = r\n",
    "    \n",
    "    dT1 = -C*(T1-T2)\n",
    "    dT2 = C*(T1-T2)\n",
    "    \n",
    "    return np.array([dT1,dT2])"
   ]
  },
  {
   "cell_type": "code",
   "execution_count": 5,
   "metadata": {},
   "outputs": [],
   "source": [
    "def Integrator2(f,r0,t):\n",
    "    \n",
    "    h = t[1] - t[0]\n",
    "\n",
    "    x = np.zeros_like(t)\n",
    "    y = np.zeros_like(t)\n",
    "    \n",
    "    x[0] = r0[0]\n",
    "    y[0] = r0[1]\n",
    "    \n",
    "    K1 = np.zeros(2)\n",
    "    K2 = np.zeros(2)\n",
    "    \n",
    "    # Las pendientes instantaneas\n",
    "    R = np.zeros(2)\n",
    "\n",
    "    for i in range(1,len(t)):\n",
    "        \n",
    "        R = np.array([x[i-1],y[i-1]])\n",
    "        \n",
    "        K1 = f(R)\n",
    "        \n",
    "        R = np.array([x[i-1]+h*K1[0],y[i-1]+h*K1[1]])\n",
    "        \n",
    "        K2 = f(R)\n",
    "        \n",
    "        x[i] = x[i-1] + 0.5*h*(K1[0]+K2[0])\n",
    "        y[i] = y[i-1] + 0.5*h*(K1[1]+K2[1])\n",
    "        \n",
    "    return x,y\n",
    "\n",
    "T1,T2 = Integrator2(System,T0,t)"
   ]
  },
  {
   "cell_type": "code",
   "execution_count": 9,
   "metadata": {},
   "outputs": [
    {
     "data": {
      "text/plain": [
       "<matplotlib.legend.Legend at 0x2bcc084b110>"
      ]
     },
     "execution_count": 9,
     "metadata": {},
     "output_type": "execute_result"
    },
    {
     "data": {
      "image/png": "[encoded data removed]",
      "text/plain": [
       "<Figure size 640x480 with 1 Axes>"
      ]
     },
     "metadata": {},
     "output_type": "display_data"
    }
   ],
   "source": [
    "plt.plot(t,T1,label = \"T1\")\n",
    "plt.plot(t,T2,label = \"T2\")\n",
    "plt.legend()"
   ]
  },
  {
   "cell_type": "markdown",
   "metadata": {},
   "source": [
    "## e)"
   ]
  },
  {
   "cell_type": "code",
   "execution_count": 7,
   "metadata": {},
   "outputs": [
    {
     "data": {
      "text/plain": [
       "300.0030030333491"
      ]
     },
     "execution_count": 7,
     "metadata": {},
     "output_type": "execute_result"
    }
   ],
   "source": [
    "T1[-1]"
   ]
  }
 ],
 "metadata": {
  "kernelspec": {
   "display_name": "Python 3",
   "language": "python",
   "name": "python3"
  },
  "language_info": {
   "codemirror_mode": {
    "name": "ipython",
    "version": 3
   },
   "file_extension": ".py",
   "mimetype": "text/x-python",
   "name": "python",
   "nbconvert_exporter": "python",
   "pygments_lexer": "ipython3",
   "version": "3.11.2"
  }
 },
 "nbformat": 4,
 "nbformat_minor": 2
}
