{
  "cells": [
    {
      "cell_type": "code",
      "execution_count": 23,
      "metadata": {
        "id": "0DEGozQ18IQX"
      },
      "outputs": [],
      "source": [
        "import numpy as np\n",
        "import matplotlib.pyplot as plt\n",
        "from tqdm import tqdm"
      ]
    },
    {
      "cell_type": "code",
      "execution_count": 24,
      "metadata": {
        "id": "B2TdCm1L8Tqg"
      },
      "outputs": [],
      "source": [
        "class Planeta:\n",
        "\n",
        "    def __init__(self, e, a,alpha, t):\n",
        "\n",
        "        self.t = t\n",
        "        self.dt = t[1] - t[0] # Paso del tiempo\n",
        "\n",
        "        self.e = e # Excentricidad\n",
        "        self.a_ = a # Semi-eje mayor\n",
        "        self.alpha = alpha #correccion relativista\n",
        "\n",
        "        self.G = 4*np.pi**2 # Unidades gaussianas\n",
        "\n",
        "        self.r = np.zeros(3)\n",
        "        self.v = np.zeros_like(self.r)\n",
        "        self.a = np.zeros_like(self.r)\n",
        "\n",
        "        self.r[0] = self.a_*(1+self.e)\n",
        "        self.v[1] = np.sqrt( self.G*(1-self.e)/(self.a_*(1.+self.e)) )\n",
        "\n",
        "        self.R = np.zeros((len(t),len(self.r)))\n",
        "        self.V = np.zeros_like(self.R)\n",
        "\n",
        "        # El valor del pasado\n",
        "        self.rp = self.r\n",
        "\n",
        "        self.vp = self.v\n",
        "\n",
        "        self.ap = self.a\n",
        "\n",
        "\n",
        "\n",
        "    def GetAceleration(self):\n",
        "\n",
        "        d = np.linalg.norm(self.r)\n",
        "        self.a = (-self.G/d**3*self.r)*(1+(self.alpha/d**2))\n",
        "\n",
        "\n",
        "    def Evolution(self,i):\n",
        "\n",
        "        self.SetPosition(i)\n",
        "        self.SetVelocity(i)\n",
        "        self.GetAceleration()\n",
        "\n",
        "        if i==0:\n",
        "            self.r = self.rp + self.v*self.dt\n",
        "        else:\n",
        "\n",
        "            # rp pasado, r presente rf futuro\n",
        "            self.rf = self.r + self.v*self.dt + 0.5*self.a*(self.dt**2)\n",
        "\n",
        "            df = np.linalg.norm(self.rf)\n",
        "            self.af = (-self.G/df**3*self.rf)*(1+(self.alpha/df**2))\n",
        "\n",
        "            self.vf = (self.v + 0.5*self.dt*(self.af+self.a))\n",
        "\n",
        "\n",
        "            self.rp = self.r\n",
        "            self.r = self.rf\n",
        "\n",
        "            self.vp = self.v\n",
        "            self.v = self.vf\n",
        "\n",
        "            self.ap = self.a\n",
        "            self.a = self.af\n",
        "\n",
        "\n",
        "\n",
        "    def SetPosition(self,i):\n",
        "        self.R[i] = self.r\n",
        "\n",
        "    def SetVelocity(self,i):\n",
        "        self.V[i] = self.v\n",
        "\n",
        "    def GetPosition(self,scale=1):\n",
        "        return self.R[::scale]\n",
        "\n",
        "    def GetVelocity(self,scale=1):\n",
        "        return self.V[::scale]\n",
        "\n",
        "    def GetPerihelio(self):\n",
        "\n",
        "        Dist = np.linalg.norm(self.R,axis=1)\n",
        "\n",
        "        timeup = []\n",
        "        thetas = []\n",
        "\n",
        "        for i in range(1,len(Dist)-1):\n",
        "            if Dist[i] < Dist[i-1] and Dist[i] < Dist[i+1]:\n",
        "                angulo = np.arctan(self.R[i][1]/self.R[i][0])*(180/(2*np.pi))\n",
        "                thetas.append(angulo)\n",
        "                timeup.append(self.t[i])\n",
        "\n",
        "        return timeup, thetas"
      ]
    },
    {
      "cell_type": "code",
      "execution_count": 25,
      "metadata": {
        "id": "-GD5DJO48tiH"
      },
      "outputs": [],
      "source": [
        "def GetPlanetas(t):\n",
        "\n",
        "    Mercurio = Planeta(0.2056,0.307,1.1e-8,t)\n",
        "\n",
        "    return Mercurio"
      ]
    },
    {
      "cell_type": "code",
      "execution_count": 26,
      "metadata": {
        "colab": {
          "base_uri": "https://localhost:8080/",
          "height": 107
        },
        "id": "2V2XC2-Slr9o",
        "outputId": "b74be38e-1ff2-4e12-af41-c776149c3457"
      },
      "outputs": [
        {
          "output_type": "stream",
          "name": "stdout",
          "text": [
            "4.a\n",
            "Mercurio tiene una excentricidad de 0.2056 y un semi eje mayor de 0.307 au\n"
          ]
        },
        {
          "output_type": "execute_result",
          "data": {
            "text/plain": [
              "'\\nprint(\"Venus tiene una excentricidad de 0.0067 y un semi eje mayor de 0.7233 au\")\\nprint(\"La Tierra tiene una excentricidad de 0.01671 y un semi eje mayor de 1 au\")\\n\\nprint(\"Marte tiene una excentricidad de 0.0934 y un semi eje mayor de 1.523679 au\")\\nprint(\"Jupiter tiene una excentricidad de 0.048 y un semi eje mayor de 5.203 au\")\\n'"
            ],
            "application/vnd.google.colaboratory.intrinsic+json": {
              "type": "string"
            }
          },
          "metadata": {},
          "execution_count": 26
        }
      ],
      "source": [
        "print(\"4.a\")\n",
        "print(\"Mercurio tiene una excentricidad de 0.2056 y un semi eje mayor de 0.307 au\")\n",
        "\"\"\"\n",
        "print(\"Venus tiene una excentricidad de 0.0067 y un semi eje mayor de 0.7233 au\")\n",
        "print(\"La Tierra tiene una excentricidad de 0.01671 y un semi eje mayor de 1 au\")\n",
        "\n",
        "print(\"Marte tiene una excentricidad de 0.0934 y un semi eje mayor de 1.523679 au\")\n",
        "print(\"Jupiter tiene una excentricidad de 0.048 y un semi eje mayor de 5.203 au\")\n",
        "\"\"\""
      ]
    },
    {
      "cell_type": "code",
      "execution_count": 27,
      "metadata": {
        "id": "m4eFVIdv8uc_"
      },
      "outputs": [],
      "source": [
        "dt = 0.6e-7\n",
        "tmax = 2.5\n",
        "t = np.arange(0.,tmax,dt)\n",
        "Planetas = GetPlanetas(t)"
      ]
    },
    {
      "cell_type": "code",
      "execution_count": 28,
      "metadata": {
        "id": "FqpSuUOJ81Sw"
      },
      "outputs": [],
      "source": [
        "def RunSimulation(t,Planetas):\n",
        "\n",
        "    for it in tqdm(range(len(t)), desc='Running simulation', unit=' Steps' ):\n",
        "\n",
        "        Planetas.Evolution(it)\n",
        "            # Aca debes agregar la interaccion con la pared\n",
        "\n",
        "\n",
        "    return Planetas"
      ]
    },
    {
      "cell_type": "code",
      "execution_count": 29,
      "metadata": {
        "colab": {
          "base_uri": "https://localhost:8080/"
        },
        "id": "LTQCInmb89sP",
        "outputId": "1ffd01d5-1944-4c0e-cfd2-077f7b7c8cea"
      },
      "outputs": [
        {
          "output_type": "stream",
          "name": "stderr",
          "text": [
            "Running simulation: 100%|██████████| 41666667/41666667 [20:11<00:00, 34386.74 Steps/s]\n"
          ]
        }
      ],
      "source": [
        "Planetas = RunSimulation(t,Planetas)"
      ]
    },
    {
      "cell_type": "code",
      "execution_count": 30,
      "metadata": {
        "colab": {
          "base_uri": "https://localhost:8080/"
        },
        "id": "NmnHJsk2TO5W",
        "outputId": "d70d269a-1500-4098-85bf-2e96a94a1fc3"
      },
      "outputs": [
        {
          "output_type": "execute_result",
          "data": {
            "text/plain": [
              "<__main__.Planeta at 0x7c49b83fb430>"
            ]
          },
          "metadata": {},
          "execution_count": 30
        }
      ],
      "source": [
        "Planetas"
      ]
    },
    {
      "cell_type": "code",
      "execution_count": 31,
      "metadata": {
        "colab": {
          "base_uri": "https://localhost:8080/",
          "height": 161
        },
        "id": "r7ApepiF8_Cn",
        "outputId": "91349dba-6362-41e5-ae06-c365be8a3d9a"
      },
      "outputs": [
        {
          "output_type": "stream",
          "name": "stdout",
          "text": [
            "4.b\n",
            "Mercurio tiene un periodo de 0.1701012643 años terrestes\n"
          ]
        },
        {
          "output_type": "execute_result",
          "data": {
            "text/plain": [
              "'\\nlista_venus = Planetas[1].GetPerihelio()\\nT_venus = (lista_venus[-1] - lista_venus[0])/(len(lista_venus)-1)\\nprint(\"Venus tiene un periodo de\",round(T_venus,3), \"años terrestes\")\\n\\nlista_tierra = Planetas[2].GetPerihelio()\\nT_tierra = (lista_tierra[-1] - lista_tierra[0])/(len(lista_tierra)-1)\\nprint(\"La Tierra tiene un periodo de\",round(T_tierra,3), \"año terreste\")\\n\\nlista_marte = Planetas[3].GetPerihelio()\\nT_marte = (lista_marte[-1] - lista_marte[0])/(len(lista_marte)-1)\\nprint(\"Marte tiene un periodo de\",round(T_marte,3), \"año terreste\")\\n\\nlista_jupiter = Planetas[4].GetPerihelio()\\nT_jupiter = (lista_jupiter[-1] - lista_jupiter[0])/(len(lista_jupiter)-1)\\nprint(\"Jupiter tiene un periodo de\",round(T_jupiter,3), \"año terreste\")\\n'"
            ],
            "application/vnd.google.colaboratory.intrinsic+json": {
              "type": "string"
            }
          },
          "metadata": {},
          "execution_count": 31
        }
      ],
      "source": [
        "print(\"4.b\")\n",
        "lista_mercurio, angulitos = Planetas.GetPerihelio()\n",
        "T_mercurio = (lista_mercurio[-1] - lista_mercurio[0])/(len(lista_mercurio)-1)\n",
        "print(\"Mercurio tiene un periodo de\",round(T_mercurio,10), \"años terrestes\")\n",
        "\"\"\"\n",
        "lista_venus = Planetas[1].GetPerihelio()\n",
        "T_venus = (lista_venus[-1] - lista_venus[0])/(len(lista_venus)-1)\n",
        "print(\"Venus tiene un periodo de\",round(T_venus,3), \"años terrestes\")\n",
        "\n",
        "lista_tierra = Planetas[2].GetPerihelio()\n",
        "T_tierra = (lista_tierra[-1] - lista_tierra[0])/(len(lista_tierra)-1)\n",
        "print(\"La Tierra tiene un periodo de\",round(T_tierra,3), \"año terreste\")\n",
        "\n",
        "lista_marte = Planetas[3].GetPerihelio()\n",
        "T_marte = (lista_marte[-1] - lista_marte[0])/(len(lista_marte)-1)\n",
        "print(\"Marte tiene un periodo de\",round(T_marte,3), \"año terreste\")\n",
        "\n",
        "lista_jupiter = Planetas[4].GetPerihelio()\n",
        "T_jupiter = (lista_jupiter[-1] - lista_jupiter[0])/(len(lista_jupiter)-1)\n",
        "print(\"Jupiter tiene un periodo de\",round(T_jupiter,3), \"año terreste\")\n",
        "\"\"\""
      ]
    },
    {
      "cell_type": "code",
      "execution_count": 49,
      "metadata": {
        "colab": {
          "base_uri": "https://localhost:8080/",
          "height": 523
        },
        "id": "6d5ffpMy9J2X",
        "outputId": "3fba9272-f9f5-445c-dd8c-e7a2d10960a6"
      },
      "outputs": [
        {
          "output_type": "stream",
          "name": "stderr",
          "text": [
            "WARNING:matplotlib.legend:No artists with labels found to put in legend.  Note that artists whose label start with an underscore are ignored when legend() is called with no argument.\n"
          ]
        },
        {
          "output_type": "display_data",
          "data": {
            "text/plain": [
              "<Figure size 640x480 with 1 Axes>"
            ],
            "image/png": "[encoded data removed]"
          },
          "metadata": {}
        },
        {
          "output_type": "stream",
          "name": "stdout",
          "text": [
            "15\n",
            "15\n"
          ]
        }
      ],
      "source": [
        "#periodos = np.array([T_mercurio,T_venus,T_tierra,T_marte,T_jupiter])\n",
        "##T_cuadrado = periodos**2\n",
        "#a = np.array([0.307,0.7233,1,1.523679,5.203])\n",
        "#a_cubo = a**3\n",
        "factor = 2\n",
        "x = [elemento * factor for elemento in lista_mercurio]\n",
        "y = [elemento * factor for elemento in angulitos]\n",
        "plt.plot(x[0:13],y[0:13],marker='o', linestyle='-')\n",
        "plt.ylabel('theta [grados]')\n",
        "plt.xlabel('tiempo [years]')\n",
        "plt.legend()\n",
        "plt.show()\n",
        "\n",
        "print(len(lista_mercurio))\n",
        "print(len(angulitos))\n",
        "\n",
        "\n"
      ]
    },
    {
      "cell_type": "code",
      "execution_count": 33,
      "metadata": {
        "colab": {
          "base_uri": "https://localhost:8080/",
          "height": 125
        },
        "id": "qY1mHQnJ-x8x",
        "outputId": "9990b3a3-7bab-4c45-9d23-80f504083610"
      },
      "outputs": [
        {
          "output_type": "execute_result",
          "data": {
            "text/plain": [
              "'\\n\\n# Calcular la pendiente (m) y la ordenada al origen (b) para la regresión lineal\\nm, b = np.polyfit(a_cubo, T_cuadrado, 1)\\n\\n# Crear la línea de regresión lineal usando los parámetros m y b\\nregression_line = m * a_cubo + b\\n\\n# Graficar los datos de ejemplo y la línea de regresión\\n##plt.scatter(x, y, label=\\'Datos de ejemplo\\')\\nplt.plot(a_cubo, regression_line, color=\\'blue\\', label=\\'Regresión Lineal\\')\\nplt.title(\\'Regresión Lineal Simple\\')\\nplt.xlabel(\\'a^3\\')\\nplt.ylabel(\\'T^2\\')\\nplt.legend()\\n\\n\\nplt.plot(a_cubo,T_cuadrado,\\'o\\')\\nplt.show()\\n# Mostrar la gráfica\\nprint(\"4. d\")\\nplt.show()\\n\\nprint(\"La pendiente obtenida es de\",round(m,4),\"year^2/au^3\")\\nprint(\"El punto de corte es de \",round(b,4),\" year^2\")\\n'"
            ],
            "application/vnd.google.colaboratory.intrinsic+json": {
              "type": "string"
            }
          },
          "metadata": {},
          "execution_count": 33
        }
      ],
      "source": []
    },
    {
      "cell_type": "code",
      "execution_count": 34,
      "metadata": {
        "id": "VwBGRZgTQzKz"
      },
      "outputs": [],
      "source": []
    }
  ],
  "metadata": {
    "colab": {
      "provenance": []
    },
    "kernelspec": {
      "display_name": "Python 3",
      "name": "python3"
    },
    "language_info": {
      "name": "python"
    }
  },
  "nbformat": 4,
  "nbformat_minor": 0
}