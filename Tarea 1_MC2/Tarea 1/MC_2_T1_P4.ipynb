{
  "nbformat": 4,
  "nbformat_minor": 0,
  "metadata": {
    "colab": {
      "provenance": []
    },
    "kernelspec": {
      "name": "python3",
      "display_name": "Python 3"
    },
    "language_info": {
      "name": "python"
    }
  },
  "cells": [
    {
      "cell_type": "code",
      "execution_count": 101,
      "metadata": {
        "id": "0DEGozQ18IQX"
      },
      "outputs": [],
      "source": [
        "import numpy as np\n",
        "import matplotlib.pyplot as plt\n",
        "from tqdm import tqdm"
      ]
    },
    {
      "cell_type": "code",
      "source": [
        "class Planeta:\n",
        "\n",
        "    def __init__(self, e, a, t):\n",
        "\n",
        "        self.t = t\n",
        "        self.dt = t[1] - t[0] # Paso del tiempo\n",
        "\n",
        "        self.e = e # Excentricidad\n",
        "        self.a_ = a # Semi-eje mayor\n",
        "\n",
        "        self.G = 4*np.pi**2 # Unidades gaussianas\n",
        "\n",
        "        self.r = np.zeros(3)\n",
        "        self.v = np.zeros_like(self.r)\n",
        "        self.a = np.zeros_like(self.r)\n",
        "\n",
        "        self.r[0] = self.a_*(1-self.e)\n",
        "        self.v[1] = np.sqrt( self.G*(1+self.e)/(self.a_*(1.-self.e)) )\n",
        "\n",
        "        self.R = np.zeros((len(t),len(self.r)))\n",
        "        self.V = np.zeros_like(self.R)\n",
        "\n",
        "        # El valor del pasado\n",
        "        self.rp = self.r\n",
        "\n",
        "    def GetAceleration(self):\n",
        "\n",
        "        d = np.linalg.norm(self.r)\n",
        "        self.a = -self.G/d**3*self.r\n",
        "\n",
        "\n",
        "    def Evolution(self,i):\n",
        "\n",
        "        self.SetPosition(i)\n",
        "        self.SetVelocity(i)\n",
        "        self.GetAceleration()\n",
        "\n",
        "        if i==0:\n",
        "            self.r = self.rp + self.v*self.dt\n",
        "        else:\n",
        "\n",
        "            # rp pasado, r presente rf futuro\n",
        "            self.rf = 2*self.r - self.rp + self.a*self.dt**2\n",
        "            self.v = (self.rf - self.rp)/(2*self.dt)\n",
        "\n",
        "            self.rp = self.r\n",
        "            self.r = self.rf\n",
        "\n",
        "    def SetPosition(self,i):\n",
        "        self.R[i] = self.r\n",
        "\n",
        "    def SetVelocity(self,i):\n",
        "        self.V[i] = self.v\n",
        "\n",
        "    def GetPosition(self,scale=1):\n",
        "        return self.R[::scale]\n",
        "\n",
        "    def GetVelocity(self,scale=1):\n",
        "        return self.V[::scale]\n",
        "\n",
        "    def GetPerihelio(self):\n",
        "\n",
        "        Dist = np.linalg.norm(self.R,axis=1)\n",
        "\n",
        "        timeup = []\n",
        "\n",
        "        for i in range(1,len(Dist)-1):\n",
        "            if Dist[i] < Dist[i-1] and Dist[i] < Dist[i+1]:\n",
        "                timeup.append(self.t[i])\n",
        "\n",
        "        return timeup"
      ],
      "metadata": {
        "id": "B2TdCm1L8Tqg"
      },
      "execution_count": 102,
      "outputs": []
    },
    {
      "cell_type": "code",
      "source": [
        "def GetPlanetas(t):\n",
        "\n",
        "    Mercurio = Planeta(0.2056,0.307,t)\n",
        "    Venus =    Planeta(0.0067,0.7233,t)\n",
        "    Tierra =   Planeta(0.01671,1.,t)\n",
        "\n",
        "    Marte =    Planeta(0.0934,1.523679,t)\n",
        "    Jupiter =  Planeta(0.048,5.203,t)\n",
        "\n",
        "    return [Mercurio,Venus,Tierra,Marte,Jupiter]"
      ],
      "metadata": {
        "id": "-GD5DJO48tiH"
      },
      "execution_count": 103,
      "outputs": []
    },
    {
      "cell_type": "code",
      "source": [
        "print(\"4.a\")\n",
        "print(\"Mercurio tiene una excentricidad de 0.2056 y un semi eje mayor de 0.307 au\")\n",
        "print(\"Venus tiene una excentricidad de 0.0067 y un semi eje mayor de 0.7233 au\")\n",
        "print(\"La Tierra tiene una excentricidad de 0.01671 y un semi eje mayor de 1 au\")\n",
        "\n",
        "print(\"Marte tiene una excentricidad de 0.0934 y un semi eje mayor de 1.523679 au\")\n",
        "print(\"Jupiter tiene una excentricidad de 0.048 y un semi eje mayor de 5.203 au\")"
      ],
      "metadata": {
        "colab": {
          "base_uri": "https://localhost:8080/"
        },
        "id": "2V2XC2-Slr9o",
        "outputId": "5b3654f3-f310-4150-ae10-ced4fb388cde"
      },
      "execution_count": 104,
      "outputs": [
        {
          "output_type": "stream",
          "name": "stdout",
          "text": [
            "4.a\n",
            "Mercurio tiene una excentricidad de 0.2056 y un semi eje mayor de 0.307 au\n",
            "Venus tiene una excentricidad de 0.0067 y un semi eje mayor de 0.7233 au\n",
            "La Tierra tiene una excentricidad de 0.01671 y un semi eje mayor de 1 au\n",
            "Marte tiene una excentricidad de 0.0934 y un semi eje mayor de 1.523679 au\n",
            "Jupiter tiene una excentricidad de 0.048 y un semi eje mayor de 5.203 au\n"
          ]
        }
      ]
    },
    {
      "cell_type": "code",
      "source": [
        "dt = 0.001\n",
        "tmax = 28\n",
        "t = np.arange(0.,tmax,dt)\n",
        "Planetas = GetPlanetas(t)"
      ],
      "metadata": {
        "id": "m4eFVIdv8uc_"
      },
      "execution_count": 105,
      "outputs": []
    },
    {
      "cell_type": "code",
      "source": [
        "def RunSimulation(t,Planetas):\n",
        "\n",
        "    for it in tqdm(range(len(t)), desc='Running simulation', unit=' Steps' ):\n",
        "\n",
        "        #print(it)\n",
        "        for i in range(len(Planetas)):\n",
        "            Planetas[i].Evolution(it)\n",
        "            # Aca debes agregar la interaccion con la pared\n",
        "\n",
        "\n",
        "    return Planetas"
      ],
      "metadata": {
        "id": "FqpSuUOJ81Sw"
      },
      "execution_count": 106,
      "outputs": []
    },
    {
      "cell_type": "code",
      "source": [
        "Planetas = RunSimulation(t,Planetas)"
      ],
      "metadata": {
        "colab": {
          "base_uri": "https://localhost:8080/"
        },
        "id": "LTQCInmb89sP",
        "outputId": "864ab889-10de-4fcb-b12e-74803b98daa1"
      },
      "execution_count": 107,
      "outputs": [
        {
          "output_type": "stream",
          "name": "stderr",
          "text": [
            "Running simulation: 100%|██████████| 28000/28000 [00:01<00:00, 17640.28 Steps/s]\n"
          ]
        }
      ]
    },
    {
      "cell_type": "code",
      "source": [
        "print(\"4.b\")\n",
        "lista_mercurio = Planetas[0].GetPerihelio()\n",
        "T_mercurio = (lista_mercurio[-1] - lista_mercurio[0])/(len(lista_mercurio)-1)\n",
        "print(\"Mercurio tiene un periodo de\",round(T_mercurio,3), \"años terrestes\")\n",
        "\n",
        "lista_venus = Planetas[1].GetPerihelio()\n",
        "T_venus = (lista_venus[-1] - lista_venus[0])/(len(lista_venus)-1)\n",
        "print(\"Venus tiene un periodo de\",round(T_venus,3), \"años terrestes\")\n",
        "\n",
        "lista_tierra = Planetas[2].GetPerihelio()\n",
        "T_tierra = (lista_tierra[-1] - lista_tierra[0])/(len(lista_tierra)-1)\n",
        "print(\"La Tierra tiene un periodo de\",round(T_tierra,3), \"año terreste\")\n",
        "\n",
        "lista_marte = Planetas[3].GetPerihelio()\n",
        "T_marte = (lista_marte[-1] - lista_marte[0])/(len(lista_marte)-1)\n",
        "print(\"Marte tiene un periodo de\",round(T_marte,3), \"año terreste\")\n",
        "\n",
        "lista_jupiter = Planetas[4].GetPerihelio()\n",
        "T_jupiter = (lista_jupiter[-1] - lista_jupiter[0])/(len(lista_jupiter)-1)\n",
        "print(\"Jupiter tiene un periodo de\",round(T_jupiter,3), \"año terreste\")"
      ],
      "metadata": {
        "colab": {
          "base_uri": "https://localhost:8080/"
        },
        "id": "r7ApepiF8_Cn",
        "outputId": "9846819f-9c22-4ef9-eccf-81a5721107a3"
      },
      "execution_count": 108,
      "outputs": [
        {
          "output_type": "stream",
          "name": "stdout",
          "text": [
            "4.b\n",
            "Mercurio tiene un periodo de 0.17 años terrestes\n",
            "Venus tiene un periodo de 0.615 años terrestes\n",
            "La Tierra tiene un periodo de 1.0 año terreste\n",
            "Marte tiene un periodo de 1.881 año terreste\n",
            "Jupiter tiene un periodo de 11.868 año terreste\n"
          ]
        }
      ]
    },
    {
      "cell_type": "code",
      "source": [
        "periodos = np.array([T_mercurio,T_venus,T_tierra,T_marte,T_jupiter])\n",
        "T_cuadrado = periodos**2\n",
        "a = np.array([0.307,0.7233,1,1.523679,5.203])\n",
        "a_cubo = a**3\n",
        "\n",
        "plt.plot(a_cubo,T_cuadrado,'o')\n",
        "plt.xlabel('a^3')\n",
        "plt.ylabel('T^2')\n",
        "plt.legend()\n",
        "plt.show()\n",
        "\n",
        "print(\"4.c\")\n",
        "\n"
      ],
      "metadata": {
        "colab": {
          "base_uri": "https://localhost:8080/",
          "height": 505
        },
        "id": "6d5ffpMy9J2X",
        "outputId": "6a18fe38-62b9-4405-d2b0-a591a6e3de85"
      },
      "execution_count": 109,
      "outputs": [
        {
          "output_type": "stream",
          "name": "stderr",
          "text": [
            "WARNING:matplotlib.legend:No artists with labels found to put in legend.  Note that artists whose label start with an underscore are ignored when legend() is called with no argument.\n"
          ]
        },
        {
          "output_type": "display_data",
          "data": {
            "text/plain": [
              "<Figure size 640x480 with 1 Axes>"
            ],
            "image/png": "[encoded data removed]"
          },
          "metadata": {}
        },
        {
          "output_type": "stream",
          "name": "stdout",
          "text": [
            "4.c\n"
          ]
        }
      ]
    },
    {
      "cell_type": "code",
      "source": [
        "# Calcular la pendiente (m) y la ordenada al origen (b) para la regresión lineal\n",
        "m, b = np.polyfit(a_cubo, T_cuadrado, 1)\n",
        "\n",
        "# Crear la línea de regresión lineal usando los parámetros m y b\n",
        "regression_line = m * a_cubo + b\n",
        "\n",
        "# Graficar los datos de ejemplo y la línea de regresión\n",
        "##plt.scatter(x, y, label='Datos de ejemplo')\n",
        "plt.plot(a_cubo, regression_line, color='blue', label='Regresión Lineal')\n",
        "plt.title('Regresión Lineal Simple')\n",
        "plt.xlabel('a^3')\n",
        "plt.ylabel('T^2')\n",
        "plt.legend()\n",
        "\n",
        "\n",
        "plt.plot(a_cubo,T_cuadrado,'o')\n",
        "plt.show()\n",
        "# Mostrar la gráfica\n",
        "print(\"4. d\")\n",
        "plt.show()\n",
        "\n",
        "print(\"La pendiente obtenida es de\",round(m,4),\"year^2/au^3\")\n",
        "print(\"El punto de corte es de \",round(b,4),\" year^2\")"
      ],
      "metadata": {
        "colab": {
          "base_uri": "https://localhost:8080/",
          "height": 526
        },
        "id": "qY1mHQnJ-x8x",
        "outputId": "6d304b87-5edd-48a7-821a-4ee11d8f3dfc"
      },
      "execution_count": 110,
      "outputs": [
        {
          "output_type": "display_data",
          "data": {
            "text/plain": [
              "<Figure size 640x480 with 1 Axes>"
            ],
            "image/png": "[encoded data removed]"
          },
          "metadata": {}
        },
        {
          "output_type": "stream",
          "name": "stdout",
          "text": [
            "4. d\n",
            "La pendiente obtenida es de 1.0 year^2/au^3\n",
            "El punto de corte es de  0.0001  year^2\n"
          ]
        }
      ]
    }
  ]
}